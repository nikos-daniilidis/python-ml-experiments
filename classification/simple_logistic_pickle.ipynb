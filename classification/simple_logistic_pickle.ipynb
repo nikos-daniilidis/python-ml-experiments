{
 "cells": [
  {
   "cell_type": "markdown",
   "metadata": {},
   "source": [
    "### Create and save a basic logistic regression classifier\n",
    "\n",
    "Create a logistic classifier and save as pickled object. Attempt to parse to PMML"
   ]
  },
  {
   "cell_type": "code",
   "execution_count": 37,
   "metadata": {
    "collapsed": true
   },
   "outputs": [],
   "source": [
    "import numpy as np\n",
    "from matplotlib import pyplot as plt\n",
    "from sklearn.linear_model import LogisticRegression\n",
    "import pickle"
   ]
  },
  {
   "cell_type": "code",
   "execution_count": 22,
   "metadata": {
    "collapsed": false
   },
   "outputs": [],
   "source": [
    "x = np.linspace(0., 1., 101)\n",
    "y = np.less_equal(x, 0.5).astype('float')\n",
    "x = x.reshape((x.shape[0],1))"
   ]
  },
  {
   "cell_type": "code",
   "execution_count": 32,
   "metadata": {
    "collapsed": false
   },
   "outputs": [],
   "source": [
    "clf = LogisticRegression(C = 10)"
   ]
  },
  {
   "cell_type": "code",
   "execution_count": 33,
   "metadata": {
    "collapsed": false
   },
   "outputs": [
    {
     "data": {
      "text/plain": [
       "LogisticRegression(C=10, class_weight=None, dual=False, fit_intercept=True,\n",
       "          intercept_scaling=1, max_iter=100, multi_class='ovr',\n",
       "          penalty='l2', random_state=None, solver='liblinear', tol=0.0001,\n",
       "          verbose=0)"
      ]
     },
     "execution_count": 33,
     "metadata": {},
     "output_type": "execute_result"
    }
   ],
   "source": [
    "clf.fit(x, y)"
   ]
  },
  {
   "cell_type": "code",
   "execution_count": 34,
   "metadata": {
    "collapsed": true
   },
   "outputs": [],
   "source": [
    "y_pred = clf.predict_proba(x)"
   ]
  },
  {
   "cell_type": "code",
   "execution_count": 43,
   "metadata": {
    "collapsed": false
   },
   "outputs": [],
   "source": [
    "plt.plot(x, y_pred[:,0])\n",
    "plt.show()"
   ]
  },
  {
   "cell_type": "code",
   "execution_count": 36,
   "metadata": {
    "collapsed": false
   },
   "outputs": [
    {
     "data": {
      "text/plain": [
       "<bound method LogisticRegression.get_params of LogisticRegression(C=10, class_weight=None, dual=False, fit_intercept=True,\n",
       "          intercept_scaling=1, max_iter=100, multi_class='ovr',\n",
       "          penalty='l2', random_state=None, solver='liblinear', tol=0.0001,\n",
       "          verbose=0)>"
      ]
     },
     "execution_count": 36,
     "metadata": {},
     "output_type": "execute_result"
    }
   ],
   "source": [
    "clf.get_params"
   ]
  },
  {
   "cell_type": "code",
   "execution_count": 38,
   "metadata": {
    "collapsed": true
   },
   "outputs": [],
   "source": [
    "with open('simple_logistic.pkl', 'wb') as fl:\n",
    "    pickle.dump(clf, fl)"
   ]
  },
  {
   "cell_type": "code",
   "execution_count": 39,
   "metadata": {
    "collapsed": true
   },
   "outputs": [],
   "source": [
    "import pickletools"
   ]
  },
  {
   "cell_type": "code",
   "execution_count": 41,
   "metadata": {
    "collapsed": false
   },
   "outputs": [],
   "source": [
    "s = pickle.dumps(clf)"
   ]
  },
  {
   "cell_type": "code",
   "execution_count": 42,
   "metadata": {
    "collapsed": false
   },
   "outputs": [
    {
     "name": "stdout",
     "output_type": "stream",
     "text": [
      "    0: c    GLOBAL     'copy_reg _reconstructor'\n",
      "   25: p    PUT        0\n",
      "   28: (    MARK\n",
      "   29: c        GLOBAL     'sklearn.linear_model.logistic LogisticRegression'\n",
      "   79: p        PUT        1\n",
      "   82: c        GLOBAL     '__builtin__ object'\n",
      "  102: p        PUT        2\n",
      "  105: N        NONE\n",
      "  106: t        TUPLE      (MARK at 28)\n",
      "  107: p    PUT        3\n",
      "  110: R    REDUCE\n",
      "  111: p    PUT        4\n",
      "  114: (    MARK\n",
      "  115: d        DICT       (MARK at 114)\n",
      "  116: p    PUT        5\n",
      "  119: S    STRING     'C'\n",
      "  124: p    PUT        6\n",
      "  127: I    INT        10\n",
      "  131: s    SETITEM\n",
      "  132: S    STRING     'max_iter'\n",
      "  144: p    PUT        7\n",
      "  147: I    INT        100\n",
      "  152: s    SETITEM\n",
      "  153: S    STRING     'verbose'\n",
      "  164: p    PUT        8\n",
      "  167: I    INT        0\n",
      "  170: s    SETITEM\n",
      "  171: S    STRING     'intercept_scaling'\n",
      "  192: p    PUT        9\n",
      "  195: I    INT        1\n",
      "  198: s    SETITEM\n",
      "  199: S    STRING     'dual'\n",
      "  207: p    PUT        10\n",
      "  211: I    INT        False\n",
      "  215: s    SETITEM\n",
      "  216: S    STRING     'fit_intercept'\n",
      "  233: p    PUT        11\n",
      "  237: I    INT        True\n",
      "  241: s    SETITEM\n",
      "  242: S    STRING     'classes_'\n",
      "  254: p    PUT        12\n",
      "  258: c    GLOBAL     'numpy.core.multiarray _reconstruct'\n",
      "  294: p    PUT        13\n",
      "  298: (    MARK\n",
      "  299: c        GLOBAL     'numpy ndarray'\n",
      "  314: p        PUT        14\n",
      "  318: (        MARK\n",
      "  319: I            INT        0\n",
      "  322: t            TUPLE      (MARK at 318)\n",
      "  323: p        PUT        15\n",
      "  327: S        STRING     'b'\n",
      "  332: p        PUT        16\n",
      "  336: t        TUPLE      (MARK at 298)\n",
      "  337: p    PUT        17\n",
      "  341: R    REDUCE\n",
      "  342: p    PUT        18\n",
      "  346: (    MARK\n",
      "  347: I        INT        1\n",
      "  350: (        MARK\n",
      "  351: I            INT        2\n",
      "  354: t            TUPLE      (MARK at 350)\n",
      "  355: p        PUT        19\n",
      "  359: c        GLOBAL     'numpy dtype'\n",
      "  372: p        PUT        20\n",
      "  376: (        MARK\n",
      "  377: S            STRING     'f8'\n",
      "  383: p            PUT        21\n",
      "  387: I            INT        0\n",
      "  390: I            INT        1\n",
      "  393: t            TUPLE      (MARK at 376)\n",
      "  394: p        PUT        22\n",
      "  398: R        REDUCE\n",
      "  399: p        PUT        23\n",
      "  403: (        MARK\n",
      "  404: I            INT        3\n",
      "  407: S            STRING     '<'\n",
      "  412: p            PUT        24\n",
      "  416: N            NONE\n",
      "  417: N            NONE\n",
      "  418: N            NONE\n",
      "  419: I            INT        -1\n",
      "  423: I            INT        -1\n",
      "  427: I            INT        0\n",
      "  430: t            TUPLE      (MARK at 403)\n",
      "  431: p        PUT        25\n",
      "  435: b        BUILD\n",
      "  436: I        INT        False\n",
      "  440: S        STRING     '\\x00\\x00\\x00\\x00\\x00\\x00\\x00\\x00\\x00\\x00\\x00\\x00\\x00\\x00\\xf0?'\n",
      "  505: p        PUT        26\n",
      "  509: t        TUPLE      (MARK at 346)\n",
      "  510: p    PUT        27\n",
      "  514: b    BUILD\n",
      "  515: s    SETITEM\n",
      "  516: S    STRING     'solver'\n",
      "  526: p    PUT        28\n",
      "  530: S    STRING     'liblinear'\n",
      "  543: p    PUT        29\n",
      "  547: s    SETITEM\n",
      "  548: S    STRING     'n_iter_'\n",
      "  559: p    PUT        30\n",
      "  563: c    GLOBAL     'numpy.core.multiarray scalar'\n",
      "  593: p    PUT        31\n",
      "  597: (    MARK\n",
      "  598: g        GET        20\n",
      "  602: (        MARK\n",
      "  603: S            STRING     'i4'\n",
      "  609: p            PUT        32\n",
      "  613: I            INT        0\n",
      "  616: I            INT        1\n",
      "  619: t            TUPLE      (MARK at 602)\n",
      "  620: p        PUT        33\n",
      "  624: R        REDUCE\n",
      "  625: p        PUT        34\n",
      "  629: (        MARK\n",
      "  630: I            INT        3\n",
      "  633: S            STRING     '<'\n",
      "  638: p            PUT        35\n",
      "  642: N            NONE\n",
      "  643: N            NONE\n",
      "  644: N            NONE\n",
      "  645: I            INT        -1\n",
      "  649: I            INT        -1\n",
      "  653: I            INT        0\n",
      "  656: t            TUPLE      (MARK at 629)\n",
      "  657: p        PUT        36\n",
      "  661: b        BUILD\n",
      "  662: S        STRING     '\\x05\\x00\\x00\\x00'\n",
      "  682: p        PUT        37\n",
      "  686: t        TUPLE      (MARK at 597)\n",
      "  687: p    PUT        38\n",
      "  691: R    REDUCE\n",
      "  692: p    PUT        39\n",
      "  696: s    SETITEM\n",
      "  697: S    STRING     'penalty'\n",
      "  708: p    PUT        40\n",
      "  712: S    STRING     'l2'\n",
      "  718: p    PUT        41\n",
      "  722: s    SETITEM\n",
      "  723: S    STRING     'multi_class'\n",
      "  738: p    PUT        42\n",
      "  742: S    STRING     'ovr'\n",
      "  749: p    PUT        43\n",
      "  753: s    SETITEM\n",
      "  754: S    STRING     'random_state'\n",
      "  770: p    PUT        44\n",
      "  774: N    NONE\n",
      "  775: s    SETITEM\n",
      "  776: S    STRING     'tol'\n",
      "  783: p    PUT        45\n",
      "  787: F    FLOAT      0.0001\n",
      "  795: s    SETITEM\n",
      "  796: S    STRING     'coef_'\n",
      "  805: p    PUT        46\n",
      "  809: g    GET        13\n",
      "  813: (    MARK\n",
      "  814: g        GET        14\n",
      "  818: (        MARK\n",
      "  819: I            INT        0\n",
      "  822: t            TUPLE      (MARK at 818)\n",
      "  823: p        PUT        47\n",
      "  827: g        GET        16\n",
      "  831: t        TUPLE      (MARK at 813)\n",
      "  832: p    PUT        48\n",
      "  836: R    REDUCE\n",
      "  837: p    PUT        49\n",
      "  841: (    MARK\n",
      "  842: I        INT        1\n",
      "  845: (        MARK\n",
      "  846: I            INT        1\n",
      "  849: I            INT        1\n",
      "  852: t            TUPLE      (MARK at 845)\n",
      "  853: p        PUT        50\n",
      "  857: g        GET        23\n",
      "  861: I        INT        False\n",
      "  865: S        STRING     '\\xeb\\xc7o-q\\xab%\\xc0'\n",
      "  889: p        PUT        51\n",
      "  893: t        TUPLE      (MARK at 841)\n",
      "  894: p    PUT        52\n",
      "  898: b    BUILD\n",
      "  899: s    SETITEM\n",
      "  900: S    STRING     'intercept_'\n",
      "  914: p    PUT        53\n",
      "  918: g    GET        13\n",
      "  922: (    MARK\n",
      "  923: g        GET        14\n",
      "  927: (        MARK\n",
      "  928: I            INT        0\n",
      "  931: t            TUPLE      (MARK at 927)\n",
      "  932: p        PUT        54\n",
      "  936: g        GET        16\n",
      "  940: t        TUPLE      (MARK at 922)\n",
      "  941: p    PUT        55\n",
      "  945: R    REDUCE\n",
      "  946: p    PUT        56\n",
      "  950: (    MARK\n",
      "  951: I        INT        1\n",
      "  954: (        MARK\n",
      "  955: I            INT        1\n",
      "  958: t            TUPLE      (MARK at 954)\n",
      "  959: p        PUT        57\n",
      "  963: g        GET        23\n",
      "  967: I        INT        False\n",
      "  971: S        STRING     'M&\\xde\\x83\\xd2\\xa6\\x15@'\n",
      "  998: p        PUT        58\n",
      " 1002: t        TUPLE      (MARK at 950)\n",
      " 1003: p    PUT        59\n",
      " 1007: b    BUILD\n",
      " 1008: s    SETITEM\n",
      " 1009: S    STRING     'class_weight'\n",
      " 1025: p    PUT        60\n",
      " 1029: N    NONE\n",
      " 1030: s    SETITEM\n",
      " 1031: b    BUILD\n",
      " 1032: .    STOP\n",
      "highest protocol among opcodes = 0\n"
     ]
    }
   ],
   "source": [
    "pickletools.dis(s)"
   ]
  },
  {
   "cell_type": "code",
   "execution_count": null,
   "metadata": {
    "collapsed": true
   },
   "outputs": [],
   "source": []
  }
 ],
 "metadata": {
  "kernelspec": {
   "display_name": "Python 2",
   "language": "python",
   "name": "python2"
  },
  "language_info": {
   "codemirror_mode": {
    "name": "ipython",
    "version": 2
   },
   "file_extension": ".py",
   "mimetype": "text/x-python",
   "name": "python",
   "nbconvert_exporter": "python",
   "pygments_lexer": "ipython2",
   "version": "2.7.6"
  }
 },
 "nbformat": 4,
 "nbformat_minor": 0
}
