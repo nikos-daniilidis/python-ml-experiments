{
 "cells": [
  {
   "cell_type": "markdown",
   "metadata": {},
   "source": [
    "### Create and save a basic logistic regression classifier\n",
    "\n",
    "Create a logistic classifier and save as pickled object. Attempt to parse to PMML"
   ]
  },
  {
   "cell_type": "code",
   "execution_count": 1,
   "metadata": {
    "collapsed": true
   },
   "outputs": [],
   "source": [
    "import numpy as np\n",
    "from matplotlib import pyplot as plt\n",
    "from sklearn.linear_model import LogisticRegression, LogisticRegressionCV\n",
    "import pickle"
   ]
  },
  {
   "cell_type": "code",
   "execution_count": 2,
   "metadata": {
    "collapsed": true
   },
   "outputs": [],
   "source": [
    "%matplotlib inline"
   ]
  },
  {
   "cell_type": "code",
   "execution_count": 3,
   "metadata": {
    "collapsed": false
   },
   "outputs": [],
   "source": [
    "def regress_params(clf):\n",
    "    \"\"\"Get the parameters of an sklearn logistic classifier. \n",
    "    Internally uses pickle to serialize the classifier object.\n",
    "    \n",
    "    ::params clf: a logistic regression classifier \n",
    "    \n",
    "    ::returns m: tuple of type, type. The classifier type, and __builtin__ type\n",
    "    ::returns d: dict. Dictionary of the trained model parameters. \n",
    "    \"\"\"\n",
    "    s = pickle.dumps(clf)\n",
    "    l = s.split(\"\\n(dp\")\n",
    "    try:\n",
    "        m = pickle.loads(\"(csklearn.\" + (l[0].rsplit(\"\\n\",1)[0] + \"\\n.\").split(\"sklearn.\")[1])\n",
    "    except \"EOFError\":\n",
    "        m = None\n",
    "        print(\"Unexpected sklearn classifier format.\")\n",
    "    if len(l) == 2:\n",
    "        # the pickled representation ends in \"b.\" which needs to be replaced by \".\"\n",
    "        d = pickle.loads(\"(dp\" + l[1].rstrip(\"b.\") + \".\")\n",
    "    else:\n",
    "        print(\"Encountered unexpected pickle format containing %d dicts.\" %(len(l) - 1))\n",
    "        d = None\n",
    "    \n",
    "    return m, d"
   ]
  },
  {
   "cell_type": "markdown",
   "metadata": {},
   "source": [
    "### Single intput, single output"
   ]
  },
  {
   "cell_type": "code",
   "execution_count": 4,
   "metadata": {
    "collapsed": false
   },
   "outputs": [],
   "source": [
    "x = np.linspace(0., 1., 101)\n",
    "y = np.less_equal(x, 0.5).astype('float')\n",
    "x = x.reshape((x.shape[0],1))"
   ]
  },
  {
   "cell_type": "code",
   "execution_count": 5,
   "metadata": {
    "collapsed": false
   },
   "outputs": [
    {
     "name": "stdout",
     "output_type": "stream",
     "text": [
      "{'intercept_': array([ 5.41291243]), 'C': 10, 'classes_': array([ 0.,  1.]), 'verbose': 0, 'fit_intercept': True, 'max_iter': 100, 'class_weight': None, 'n_iter_': 5, 'penalty': 'l2', 'multi_class': 'ovr', 'random_state': None, 'dual': False, 'tol': 0.0001, 'coef_': array([[-10.83484785]]), 'solver': 'liblinear', 'intercept_scaling': 1}\n",
      "(<class 'sklearn.linear_model.logistic.LogisticRegression'>, <type 'object'>, None)\n"
     ]
    }
   ],
   "source": [
    "clf = LogisticRegression(C = 10)\n",
    "clf.fit(x, y)\n",
    "mo, do = regress_params(clf)\n",
    "print do\n",
    "print mo"
   ]
  },
  {
   "cell_type": "code",
   "execution_count": 6,
   "metadata": {
    "collapsed": false
   },
   "outputs": [
    {
     "name": "stdout",
     "output_type": "stream",
     "text": [
      "Encountered unexpected pickle format containing 4 dicts.\n",
      "None\n",
      "(<class 'sklearn.linear_model.logistic.LogisticRegressionCV'>, <type 'object'>, None)\n"
     ]
    }
   ],
   "source": [
    "clf = LogisticRegressionCV()\n",
    "clf.fit(x, y)\n",
    "mo, do = regress_params(clf)\n",
    "print do\n",
    "print mo"
   ]
  },
  {
   "cell_type": "code",
   "execution_count": 7,
   "metadata": {
    "collapsed": true
   },
   "outputs": [],
   "source": [
    "y_pred = clf.predict_proba(x)\n",
    "#y_ref = 1/(1 + np.exp(-6.93 * (x-0.49)))\n",
    "y_ref = 1/(1 + np.exp(-10.68 * (x-0.5)))"
   ]
  },
  {
   "cell_type": "code",
   "execution_count": 8,
   "metadata": {
    "collapsed": false
   },
   "outputs": [
    {
     "data": {
      "image/png": "[encoded data removed]",
      "text/plain": [
       "<matplotlib.figure.Figure at 0x7f95c86e40d0>"
      ]
     },
     "metadata": {},
     "output_type": "display_data"
    }
   ],
   "source": [
    "plt.plot(x, y_pred[:,0])\n",
    "plt.plot(x,y_ref,c='red')\n",
    "plt.show()"
   ]
  },
  {
   "cell_type": "code",
   "execution_count": 9,
   "metadata": {
    "collapsed": true
   },
   "outputs": [],
   "source": [
    "with open('simple_logistic_C10.pkl', 'wb') as fl:\n",
    "    pickle.dump(clf, fl)"
   ]
  },
  {
   "cell_type": "code",
   "execution_count": 10,
   "metadata": {
    "collapsed": true
   },
   "outputs": [],
   "source": [
    "import pickletools"
   ]
  },
  {
   "cell_type": "markdown",
   "metadata": {},
   "source": [
    "### Multiple input, single output"
   ]
  },
  {
   "cell_type": "code",
   "execution_count": 11,
   "metadata": {
    "collapsed": true
   },
   "outputs": [],
   "source": [
    "def create_grid(x1_min, x1_max, x2_min, x2_max, num_points=101):\n",
    "    \"\"\"\n",
    "    Create a grid with num_points points in each dimension. \n",
    "    \n",
    "    x1_min, x1_max, x2_min, x2_max: float, the grid limits\n",
    "    num_points: int\n",
    "    \"\"\"\n",
    "    dx1 = (x1_max - x1_min) / (num_points - 1)\n",
    "    dx2 = (x2_max - x2_min) / (num_points - 1)\n",
    "    xx, yy = np.meshgrid(np.arange(x1_min, x1_max, dx1),\n",
    "                         np.arange(x2_min, x2_max, dx2))\n",
    "    return xx, yy"
   ]
  },
  {
   "cell_type": "code",
   "execution_count": 12,
   "metadata": {
    "collapsed": false
   },
   "outputs": [],
   "source": [
    "X1, X2 = create_grid(0., 1., 0., 1.)\n",
    "Y = np.transpose(np.less_equal(X1 + X2, 0.5).astype('float'))"
   ]
  },
  {
   "cell_type": "code",
   "execution_count": 13,
   "metadata": {
    "collapsed": false
   },
   "outputs": [
    {
     "data": {
      "text/plain": [
       "(10000,)"
      ]
     },
     "execution_count": 13,
     "metadata": {},
     "output_type": "execute_result"
    }
   ],
   "source": [
    "x1 = X1.reshape(X1.shape[0]*X1.shape[1])\n",
    "x2 = X2.reshape(X2.shape[0]*X2.shape[1])\n",
    "y= Y.reshape(Y.shape[0]*Y.shape[1])\n",
    "X = np.vstack((x1, x2)).T\n",
    "y.shape"
   ]
  },
  {
   "cell_type": "code",
   "execution_count": 14,
   "metadata": {
    "collapsed": true
   },
   "outputs": [],
   "source": [
    "clf = LogisticRegression(C = 10)"
   ]
  },
  {
   "cell_type": "code",
   "execution_count": 15,
   "metadata": {
    "collapsed": false
   },
   "outputs": [
    {
     "data": {
      "text/plain": [
       "LogisticRegression(C=10, class_weight=None, dual=False, fit_intercept=True,\n",
       "          intercept_scaling=1, max_iter=100, multi_class='ovr',\n",
       "          penalty='l2', random_state=None, solver='liblinear', tol=0.0001,\n",
       "          verbose=0)"
      ]
     },
     "execution_count": 15,
     "metadata": {},
     "output_type": "execute_result"
    }
   ],
   "source": [
    "clf.fit(X,y)"
   ]
  },
  {
   "cell_type": "code",
   "execution_count": 16,
   "metadata": {
    "collapsed": false
   },
   "outputs": [
    {
     "name": "stdout",
     "output_type": "stream",
     "text": [
      "{'intercept_': array([ 16.77226485]), 'C': 10, 'classes_': array([ 0.,  1.]), 'verbose': 0, 'fit_intercept': True, 'max_iter': 100, 'class_weight': None, 'n_iter_': 10, 'penalty': 'l2', 'multi_class': 'ovr', 'random_state': None, 'dual': False, 'tol': 0.0001, 'coef_': array([[-33.42420441, -33.42420441]]), 'solver': 'liblinear', 'intercept_scaling': 1}\n",
      "(<class 'sklearn.linear_model.logistic.LogisticRegression'>, <type 'object'>, None)\n"
     ]
    }
   ],
   "source": [
    "mo, do = regress_params(clf)\n",
    "print do\n",
    "print mo"
   ]
  },
  {
   "cell_type": "markdown",
   "metadata": {
    "collapsed": true
   },
   "source": [
    "### Multiple input, three class"
   ]
  },
  {
   "cell_type": "code",
   "execution_count": 17,
   "metadata": {
    "collapsed": true
   },
   "outputs": [],
   "source": [
    "X1, X2 = create_grid(0., 1., 0., 1.)\n",
    "Y1 = np.transpose(np.less_equal(X1, 0.5).astype('float'))\n",
    "Y2 = np.transpose(np.less_equal(X2, 0.5).astype('float'))\n",
    "Y = Y1 + Y2"
   ]
  },
  {
   "cell_type": "code",
   "execution_count": 18,
   "metadata": {
    "collapsed": false
   },
   "outputs": [
    {
     "data": {
      "text/plain": [
       "(10000,)"
      ]
     },
     "execution_count": 18,
     "metadata": {},
     "output_type": "execute_result"
    }
   ],
   "source": [
    "x1 = X1.reshape(X1.shape[0]*X1.shape[1])\n",
    "x2 = X2.reshape(X2.shape[0]*X2.shape[1])\n",
    "y= Y.reshape(Y.shape[0]*Y.shape[1])\n",
    "X = np.vstack((x1, x2)).T\n",
    "y.shape"
   ]
  },
  {
   "cell_type": "code",
   "execution_count": 19,
   "metadata": {
    "collapsed": true
   },
   "outputs": [],
   "source": [
    "clf = LogisticRegression(C=10.)"
   ]
  },
  {
   "cell_type": "code",
   "execution_count": 20,
   "metadata": {
    "collapsed": false
   },
   "outputs": [
    {
     "data": {
      "text/plain": [
       "LogisticRegression(C=10.0, class_weight=None, dual=False, fit_intercept=True,\n",
       "          intercept_scaling=1, max_iter=100, multi_class='ovr',\n",
       "          penalty='l2', random_state=None, solver='liblinear', tol=0.0001,\n",
       "          verbose=0)"
      ]
     },
     "execution_count": 20,
     "metadata": {},
     "output_type": "execute_result"
    }
   ],
   "source": [
    "clf.fit(X, y)"
   ]
  },
  {
   "cell_type": "code",
   "execution_count": 21,
   "metadata": {
    "collapsed": false
   },
   "outputs": [
    {
     "name": "stdout",
     "output_type": "stream",
     "text": [
      "{'intercept_': array([-16.12765105,  -0.11953183,   8.29645763]), 'C': 10.0, 'classes_': array([ 0.,  1.,  2.]), 'verbose': 0, 'fit_intercept': True, 'max_iter': 100, 'class_weight': None, 'n_iter_': 7, 'penalty': 'l2', 'multi_class': 'ovr', 'random_state': None, 'dual': False, 'tol': 0.0001, 'coef_': array([[ 12.28949534,  12.28949534],\n",
      "       [  0.11993549,   0.11993549],\n",
      "       [-11.9283637 , -11.9283637 ]]), 'solver': 'liblinear', 'intercept_scaling': 1}\n",
      "(<class 'sklearn.linear_model.logistic.LogisticRegression'>, <type 'object'>, None)\n"
     ]
    }
   ],
   "source": [
    "mo, do = regress_params(clf)\n",
    "print do\n",
    "print mo"
   ]
  },
  {
   "cell_type": "code",
   "execution_count": null,
   "metadata": {
    "collapsed": true
   },
   "outputs": [],
   "source": []
  }
 ],
 "metadata": {
  "kernelspec": {
   "display_name": "Python 2",
   "language": "python",
   "name": "python2"
  },
  "language_info": {
   "codemirror_mode": {
    "name": "ipython",
    "version": 2
   },
   "file_extension": ".py",
   "mimetype": "text/x-python",
   "name": "python",
   "nbconvert_exporter": "python",
   "pygments_lexer": "ipython2",
   "version": "2.7.6"
  }
 },
 "nbformat": 4,
 "nbformat_minor": 0
}
