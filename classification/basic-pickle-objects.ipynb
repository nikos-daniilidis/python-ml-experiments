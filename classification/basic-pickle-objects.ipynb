{
 "cells": [
  {
   "cell_type": "markdown",
   "metadata": {},
   "source": [
    "### Create and save a basic logistic regression classifier\n",
    "\n",
    "Create a logistic classifier and save as pickled object. Attempt to parse to PMML"
   ]
  },
  {
   "cell_type": "code",
   "execution_count": 1,
   "metadata": {
    "collapsed": true
   },
   "outputs": [],
   "source": [
    "import numpy as np\n",
    "import pickle\n",
    "import pickletools"
   ]
  },
  {
   "cell_type": "code",
   "execution_count": 2,
   "metadata": {
    "collapsed": false
   },
   "outputs": [],
   "source": [
    "tp = (0, 1.3231)\n",
    "s = pickle.dumps(tp)"
   ]
  },
  {
   "cell_type": "code",
   "execution_count": 3,
   "metadata": {
    "collapsed": false
   },
   "outputs": [
    {
     "name": "stdout",
     "output_type": "stream",
     "text": [
      "(I0\n",
      "F1.3231\n",
      "tp0\n",
      ".\n"
     ]
    }
   ],
   "source": [
    "print s"
   ]
  },
  {
   "cell_type": "code",
   "execution_count": 4,
   "metadata": {
    "collapsed": false
   },
   "outputs": [
    {
     "name": "stdout",
     "output_type": "stream",
     "text": [
      "(dp0\n",
      "S'a'\n",
      "p1\n",
      "I1\n",
      "s.\n"
     ]
    }
   ],
   "source": [
    "d = {\"a\":1}\n",
    "s = pickle.dumps(d)\n",
    "print s"
   ]
  },
  {
   "cell_type": "code",
   "execution_count": 5,
   "metadata": {
    "collapsed": false
   },
   "outputs": [
    {
     "name": "stdout",
     "output_type": "stream",
     "text": [
      "cnumpy.core.multiarray\n",
      "_reconstruct\n",
      "p0\n",
      "(cnumpy\n",
      "ndarray\n",
      "p1\n",
      "(I0\n",
      "tp2\n",
      "S'b'\n",
      "p3\n",
      "tp4\n",
      "Rp5\n",
      "(I1\n",
      "(I2\n",
      "tp6\n",
      "cnumpy\n",
      "dtype\n",
      "p7\n",
      "(S'f8'\n",
      "p8\n",
      "I0\n",
      "I1\n",
      "tp9\n",
      "Rp10\n",
      "(I3\n",
      "S'<'\n",
      "p11\n",
      "NNNI-1\n",
      "I-1\n",
      "I0\n",
      "tp12\n",
      "bI00\n",
      "S'\\x00\\x00\\x00\\x00\\x00\\x00\\x00\\x00\\x00\\x00\\x00\\x00\\x00\\x00\\xf0?'\n",
      "p13\n",
      "tp14\n",
      "b.\n",
      "    0: c    GLOBAL     'numpy.core.multiarray _reconstruct'\n",
      "   36: p    PUT        0\n",
      "   39: (    MARK\n",
      "   40: c        GLOBAL     'numpy ndarray'\n",
      "   55: p        PUT        1\n",
      "   58: (        MARK\n",
      "   59: I            INT        0\n",
      "   62: t            TUPLE      (MARK at 58)\n",
      "   63: p        PUT        2\n",
      "   66: S        STRING     'b'\n",
      "   71: p        PUT        3\n",
      "   74: t        TUPLE      (MARK at 39)\n",
      "   75: p    PUT        4\n",
      "   78: R    REDUCE\n",
      "   79: p    PUT        5\n",
      "   82: (    MARK\n",
      "   83: I        INT        1\n",
      "   86: (        MARK\n",
      "   87: I            INT        2\n",
      "   90: t            TUPLE      (MARK at 86)\n",
      "   91: p        PUT        6\n",
      "   94: c        GLOBAL     'numpy dtype'\n",
      "  107: p        PUT        7\n",
      "  110: (        MARK\n",
      "  111: S            STRING     'f8'\n",
      "  117: p            PUT        8\n",
      "  120: I            INT        0\n",
      "  123: I            INT        1\n",
      "  126: t            TUPLE      (MARK at 110)\n",
      "  127: p        PUT        9\n",
      "  130: R        REDUCE\n",
      "  131: p        PUT        10\n",
      "  135: (        MARK\n",
      "  136: I            INT        3\n",
      "  139: S            STRING     '<'\n",
      "  144: p            PUT        11\n",
      "  148: N            NONE\n",
      "  149: N            NONE\n",
      "  150: N            NONE\n",
      "  151: I            INT        -1\n",
      "  155: I            INT        -1\n",
      "  159: I            INT        0\n",
      "  162: t            TUPLE      (MARK at 135)\n",
      "  163: p        PUT        12\n",
      "  167: b        BUILD\n",
      "  168: I        INT        False\n",
      "  172: S        STRING     '\\x00\\x00\\x00\\x00\\x00\\x00\\x00\\x00\\x00\\x00\\x00\\x00\\x00\\x00\\xf0?'\n",
      "  237: p        PUT        13\n",
      "  241: t        TUPLE      (MARK at 82)\n",
      "  242: p    PUT        14\n",
      "  246: b    BUILD\n",
      "  247: .    STOP\n",
      "highest protocol among opcodes = 0\n",
      "None\n"
     ]
    }
   ],
   "source": [
    "arr = np.ndarray(shape=(2,), dtype='float', buffer=np.array([0., 1.]))\n",
    "s = pickle.dumps(arr)\n",
    "print s\n",
    "print pickletools.dis(s)"
   ]
  },
  {
   "cell_type": "code",
   "execution_count": 7,
   "metadata": {
    "collapsed": false
   },
   "outputs": [],
   "source": [
    "#pickletools.dis(s)"
   ]
  },
  {
   "cell_type": "code",
   "execution_count": 8,
   "metadata": {
    "collapsed": false
   },
   "outputs": [
    {
     "name": "stdout",
     "output_type": "stream",
     "text": [
      "[ 0.  1.]\n"
     ]
    }
   ],
   "source": [
    "s = \"\"\"cnumpy.core.multiarray\n",
    "_reconstruct\n",
    "p13\n",
    "(cnumpy\n",
    "ndarray\n",
    "p14\n",
    "(I0\n",
    "tp15\n",
    "S'b'\n",
    "p16\n",
    "tp17\n",
    "Rp18\n",
    "(I1\n",
    "(I2\n",
    "tp19\n",
    "cnumpy\n",
    "dtype\n",
    "p20\n",
    "(S'f8'\n",
    "p21\n",
    "I0\n",
    "I1\n",
    "tp22\n",
    "Rp23\n",
    "(I3\n",
    "S'<'\n",
    "p24\n",
    "NNNI-1\n",
    "I-1\n",
    "I0\n",
    "tp25\n",
    "bI00\n",
    "S'\\x00\\x00\\x00\\x00\\x00\\x00\\x00\\x00\\x00\\x00\\x00\\x00\\x00\\x00\\xf0?'\n",
    "p26\n",
    "tp27\n",
    "b.\"\"\"\n",
    "a = pickle.loads(s)\n",
    "print a"
   ]
  },
  {
   "cell_type": "code",
   "execution_count": 34,
   "metadata": {
    "collapsed": false
   },
   "outputs": [
    {
     "name": "stdout",
     "output_type": "stream",
     "text": [
      "{'intercept_': array([ 5.41291243]), 'C': 10, 'classes_': array([ 0.,  1.]), 'verbose': 0, 'fit_intercept': True, 'max_iter': 100, 'class_weight': None, 'n_iter_': 5, 'penalty': 'l2', 'multi_class': 'ovr', 'random_state': None, 'dual': False, 'tol': 0.0001, 'coef_': array([[-10.83484785]]), 'solver': 'liblinear', 'intercept_scaling': 1}\n"
     ]
    }
   ],
   "source": [
    "s = \"\"\"(dp5\n",
    "S'C'\n",
    "p6\n",
    "I10\n",
    "sS'max_iter'\n",
    "p7\n",
    "I100\n",
    "sS'verbose'\n",
    "p8\n",
    "I0\n",
    "sS'intercept_scaling'\n",
    "p9\n",
    "I1\n",
    "sS'dual'\n",
    "p10\n",
    "I00\n",
    "sS'fit_intercept'\n",
    "p11\n",
    "I01\n",
    "sS'classes_'\n",
    "p12\n",
    "cnumpy.core.multiarray\n",
    "_reconstruct\n",
    "p13\n",
    "(cnumpy\n",
    "ndarray\n",
    "p14\n",
    "(I0\n",
    "tp15\n",
    "S'b'\n",
    "p16\n",
    "tp17\n",
    "Rp18\n",
    "(I1\n",
    "(I2\n",
    "tp19\n",
    "cnumpy\n",
    "dtype\n",
    "p20\n",
    "(S'f8'\n",
    "p21\n",
    "I0\n",
    "I1\n",
    "tp22\n",
    "Rp23\n",
    "(I3\n",
    "S'<'\n",
    "p24\n",
    "NNNI-1\n",
    "I-1\n",
    "I0\n",
    "tp25\n",
    "bI00\n",
    "S'\\x00\\x00\\x00\\x00\\x00\\x00\\x00\\x00\\x00\\x00\\x00\\x00\\x00\\x00\\xf0?'\n",
    "p26\n",
    "tp27\n",
    "bsS'solver'\n",
    "p28\n",
    "S'liblinear'\n",
    "p29\n",
    "sS'n_iter_'\n",
    "p30\n",
    "cnumpy.core.multiarray\n",
    "scalar\n",
    "p31\n",
    "(g20\n",
    "(S'i4'\n",
    "p32\n",
    "I0\n",
    "I1\n",
    "tp33\n",
    "Rp34\n",
    "(I3\n",
    "S'<'\n",
    "p35\n",
    "NNNI-1\n",
    "I-1\n",
    "I0\n",
    "tp36\n",
    "bS'\\x05\\x00\\x00\\x00'\n",
    "p37\n",
    "tp38\n",
    "Rp39\n",
    "sS'penalty'\n",
    "p40\n",
    "S'l2'\n",
    "p41\n",
    "sS'multi_class'\n",
    "p42\n",
    "S'ovr'\n",
    "p43\n",
    "sS'random_state'\n",
    "p44\n",
    "NsS'tol'\n",
    "p45\n",
    "F0.0001\n",
    "sS'coef_'\n",
    "p46\n",
    "g13\n",
    "(g14\n",
    "(I0\n",
    "tp47\n",
    "g16\n",
    "tp48\n",
    "Rp49\n",
    "(I1\n",
    "(I1\n",
    "I1\n",
    "tp50\n",
    "g23\n",
    "I00\n",
    "S'\\xeb\\xc7o-q\\xab%\\xc0'\n",
    "p51\n",
    "tp52\n",
    "bsS'intercept_'\n",
    "p53\n",
    "g13\n",
    "(g14\n",
    "(I0\n",
    "tp54\n",
    "g16\n",
    "tp55\n",
    "Rp56\n",
    "(I1\n",
    "(I1\n",
    "tp57\n",
    "g23\n",
    "I00\n",
    "S'M&\\xde\\x83\\xd2\\xa6\\x15@'\n",
    "p58\n",
    "tp59\n",
    "bsS'class_weight'\n",
    "p60\n",
    "Ns.\"\"\"\n",
    "a = pickle.loads(s)\n",
    "print a"
   ]
  },
  {
   "cell_type": "code",
   "execution_count": null,
   "metadata": {
    "collapsed": true
   },
   "outputs": [],
   "source": []
  }
 ],
 "metadata": {
  "kernelspec": {
   "display_name": "Python 2",
   "language": "python",
   "name": "python2"
  },
  "language_info": {
   "codemirror_mode": {
    "name": "ipython",
    "version": 2
   },
   "file_extension": ".py",
   "mimetype": "text/x-python",
   "name": "python",
   "nbconvert_exporter": "python",
   "pygments_lexer": "ipython2",
   "version": "2.7.6"
  }
 },
 "nbformat": 4,
 "nbformat_minor": 0
}
