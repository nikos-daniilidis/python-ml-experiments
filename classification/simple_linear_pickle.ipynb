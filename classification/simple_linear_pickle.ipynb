{
 "cells": [
  {
   "cell_type": "markdown",
   "metadata": {},
   "source": [
    "### Create and save a basic linear regression\n",
    "\n",
    "Create alinear regressor and save as pickled object. Attempt to parse to PMML"
   ]
  },
  {
   "cell_type": "code",
   "execution_count": 1,
   "metadata": {
    "collapsed": true
   },
   "outputs": [],
   "source": [
    "import numpy as np\n",
    "from matplotlib import pyplot as plt\n",
    "from sklearn.linear_model import LinearRegression, Lasso, Ridge\n",
    "import pickle"
   ]
  },
  {
   "cell_type": "code",
   "execution_count": 2,
   "metadata": {
    "collapsed": true
   },
   "outputs": [],
   "source": [
    "%matplotlib inline"
   ]
  },
  {
   "cell_type": "code",
   "execution_count": 3,
   "metadata": {
    "collapsed": false
   },
   "outputs": [],
   "source": [
    "def regress_params(clf):\n",
    "    \"\"\"Get the parameters of an sklearn logistic classifier. \n",
    "    Internally uses pickle to serialize the classifier object.\n",
    "    \n",
    "    ::params clf: a logistic regression classifier \n",
    "    \n",
    "    ::returns m: tuple of type, type. The classifier type, and __builtin__ type\n",
    "    ::returns d: dict. Dictionary of the trained model parameters. \n",
    "    \"\"\"\n",
    "    s = pickle.dumps(clf)\n",
    "    l = s.split(\"\\n(dp\")\n",
    "    try:\n",
    "        m = pickle.loads(\"(csklearn.\" + (l[0].rsplit(\"\\n\",1)[0] + \"\\n.\").split(\"sklearn.\")[1])\n",
    "    except \"EOFError\":\n",
    "        m = None\n",
    "        print(\"Unexpected sklearn classifier format.\")\n",
    "    if len(l) == 2:\n",
    "        # the pickled representation ends in \"b.\" which needs to be replaced by \".\"\n",
    "        d = pickle.loads(\"(dp\" + l[1].rstrip(\"b.\") + \".\")\n",
    "    else:\n",
    "        print(\"Encountered unexpected pickle format containing %d dicts.\" %(len(l) - 1))\n",
    "        d = None\n",
    "    \n",
    "    return m, d"
   ]
  },
  {
   "cell_type": "markdown",
   "metadata": {},
   "source": [
    "### Single intput, single output"
   ]
  },
  {
   "cell_type": "code",
   "execution_count": 35,
   "metadata": {
    "collapsed": true
   },
   "outputs": [],
   "source": [
    "x = np.linspace(0., 1., 101)\n",
    "y = 0.2 + 0.6 * x + 0.05 * np.random.randn(101)\n",
    "x = x.reshape((x.shape[0],1))"
   ]
  },
  {
   "cell_type": "code",
   "execution_count": 36,
   "metadata": {
    "collapsed": false
   },
   "outputs": [
    {
     "name": "stdout",
     "output_type": "stream",
     "text": [
      "{'normalize': False, 'n_jobs': 1, 'residues_': 0.31782157278394396, 'fit_intercept': True, 'singular_': array([ 2.93001706]), 'coef_': array([ 0.61009408]), 'copy_X': True, 'rank_': 1, 'intercept_': 0.19468273352536469}\n",
      "(<class 'sklearn.linear_model.base.LinearRegression'>, <type 'object'>, None)\n"
     ]
    }
   ],
   "source": [
    "clf = LinearRegression()\n",
    "clf.fit(x, y)\n",
    "mo, do = regress_params(clf)\n",
    "print do\n",
    "print mo"
   ]
  },
  {
   "cell_type": "code",
   "execution_count": 39,
   "metadata": {
    "collapsed": false
   },
   "outputs": [
    {
     "name": "stdout",
     "output_type": "stream",
     "text": [
      "{'normalize': False, 'warm_start': False, 'selection': 'cyclic', 'fit_intercept': True, 'l1_ratio': 1.0, 'max_iter': 1000, 'n_iter_': 1, 'intercept_': 0.49972977384938788, 'precompute': False, 'random_state': None, 'tol': 0.0001, 'positive': False, 'copy_X': True, 'alpha': 1.0, 'coef_': array([ 0.]), 'dual_gap_': array(0.0)}\n",
      "(<class 'sklearn.linear_model.coordinate_descent.Lasso'>, <type 'object'>, None)\n"
     ]
    }
   ],
   "source": [
    "clf = Lasso()\n",
    "clf.fit(x, y)\n",
    "mo, do = regress_params(clf)\n",
    "print do\n",
    "print mo"
   ]
  },
  {
   "cell_type": "code",
   "execution_count": 42,
   "metadata": {
    "collapsed": false
   },
   "outputs": [
    {
     "name": "stdout",
     "output_type": "stream",
     "text": [
      "{'normalize': False, 'fit_intercept': True, 'solver': 'auto', 'max_iter': None, 'coef_': array([ 0.54644316]), 'tol': 0.001, 'copy_X': True, 'alpha': 1.0, 'intercept_': 0.22650819417471485}\n",
      "(<class 'sklearn.linear_model.ridge.Ridge'>, <type 'object'>, None)\n"
     ]
    }
   ],
   "source": [
    "clf = Ridge()\n",
    "clf.fit(x, y)\n",
    "mo, do = regress_params(clf)\n",
    "print do\n",
    "print mo"
   ]
  },
  {
   "cell_type": "code",
   "execution_count": 43,
   "metadata": {
    "collapsed": false
   },
   "outputs": [],
   "source": [
    "y_pred = clf.predict(x)\n",
    "y_ref = 0.2 + 0.6 * x"
   ]
  },
  {
   "cell_type": "code",
   "execution_count": 44,
   "metadata": {
    "collapsed": false
   },
   "outputs": [
    {
     "data": {
      "image/png": "[encoded data removed]",
      "text/plain": [
       "<matplotlib.figure.Figure at 0x7f93c915d810>"
      ]
     },
     "metadata": {},
     "output_type": "display_data"
    }
   ],
   "source": [
    "plt.plot(x, y_pred)\n",
    "plt.plot(x,y_ref,c='red')\n",
    "plt.show()"
   ]
  },
  {
   "cell_type": "markdown",
   "metadata": {},
   "source": [
    "### Multiple input"
   ]
  },
  {
   "cell_type": "code",
   "execution_count": 46,
   "metadata": {
    "collapsed": true
   },
   "outputs": [],
   "source": [
    "def create_grid(x1_min, x1_max, x2_min, x2_max, num_points=101):\n",
    "    \"\"\"\n",
    "    Create a grid with num_points points in each dimension. \n",
    "    \n",
    "    x1_min, x1_max, x2_min, x2_max: float, the grid limits\n",
    "    num_points: int\n",
    "    \"\"\"\n",
    "    dx1 = (x1_max - x1_min) / (num_points - 1)\n",
    "    dx2 = (x2_max - x2_min) / (num_points - 1)\n",
    "    xx, yy = np.meshgrid(np.arange(x1_min, x1_max, dx1),\n",
    "                         np.arange(x2_min, x2_max, dx2))\n",
    "    return xx, yy"
   ]
  },
  {
   "cell_type": "code",
   "execution_count": 49,
   "metadata": {
    "collapsed": false
   },
   "outputs": [],
   "source": [
    "X1, X2 = create_grid(0., 1., 0., 1.)\n",
    "Y = 0.2 + 0.4 * X1 + 0.6 * X2 + 0.05 * np.random.randn(100,100)"
   ]
  },
  {
   "cell_type": "code",
   "execution_count": 50,
   "metadata": {
    "collapsed": false
   },
   "outputs": [
    {
     "data": {
      "text/plain": [
       "(10000,)"
      ]
     },
     "execution_count": 50,
     "metadata": {},
     "output_type": "execute_result"
    }
   ],
   "source": [
    "x1 = X1.reshape(X1.shape[0]*X1.shape[1])\n",
    "x2 = X2.reshape(X2.shape[0]*X2.shape[1])\n",
    "y= Y.reshape(Y.shape[0]*Y.shape[1])\n",
    "X = np.vstack((x1, x2)).T\n",
    "y.shape"
   ]
  },
  {
   "cell_type": "code",
   "execution_count": 52,
   "metadata": {
    "collapsed": false
   },
   "outputs": [
    {
     "name": "stdout",
     "output_type": "stream",
     "text": [
      "{'normalize': False, 'n_jobs': 1, 'residues_': 25.705971684200918, 'fit_intercept': True, 'singular_': array([ 28.86607005,  28.86607005]), 'coef_': array([ 0.4005646,  0.6006029]), 'copy_X': True, 'rank_': 2, 'intercept_': 0.19941363468542705}\n",
      "(<class 'sklearn.linear_model.base.LinearRegression'>, <type 'object'>, None)\n"
     ]
    }
   ],
   "source": [
    "clf = LinearRegression()\n",
    "clf.fit(X,y)\n",
    "mo, do = regress_params(clf)\n",
    "print do\n",
    "print mo"
   ]
  },
  {
   "cell_type": "code",
   "execution_count": 53,
   "metadata": {
    "collapsed": false
   },
   "outputs": [
    {
     "name": "stdout",
     "output_type": "stream",
     "text": [
      "{'normalize': False, 'warm_start': False, 'selection': 'cyclic', 'fit_intercept': True, 'l1_ratio': 1.0, 'max_iter': 1000, 'n_iter_': 1, 'intercept_': 0.6949915465449894, 'precompute': False, 'random_state': None, 'tol': 0.0001, 'positive': False, 'copy_X': True, 'alpha': 1.0, 'coef_': array([ 0.,  0.]), 'dual_gap_': array(0.0)}\n",
      "(<class 'sklearn.linear_model.coordinate_descent.Lasso'>, <type 'object'>, None)\n"
     ]
    }
   ],
   "source": [
    "clf = Lasso()\n",
    "clf.fit(X,y)\n",
    "mo, do = regress_params(clf)\n",
    "print do\n",
    "print mo"
   ]
  },
  {
   "cell_type": "code",
   "execution_count": 54,
   "metadata": {
    "collapsed": false
   },
   "outputs": [
    {
     "name": "stdout",
     "output_type": "stream",
     "text": [
      "{'normalize': False, 'fit_intercept': True, 'solver': 'auto', 'max_iter': None, 'coef_': array([ 0.40008445,  0.59988297]), 'tol': 0.001, 'copy_X': True, 'alpha': 1.0, 'intercept_': 0.20000767473562209}\n",
      "(<class 'sklearn.linear_model.ridge.Ridge'>, <type 'object'>, None)\n"
     ]
    }
   ],
   "source": [
    "clf = Ridge()\n",
    "clf.fit(X,y)\n",
    "mo, do = regress_params(clf)\n",
    "print do\n",
    "print mo"
   ]
  },
  {
   "cell_type": "code",
   "execution_count": null,
   "metadata": {
    "collapsed": true
   },
   "outputs": [],
   "source": []
  }
 ],
 "metadata": {
  "kernelspec": {
   "display_name": "Python 2",
   "language": "python",
   "name": "python2"
  },
  "language_info": {
   "codemirror_mode": {
    "name": "ipython",
    "version": 2
   },
   "file_extension": ".py",
   "mimetype": "text/x-python",
   "name": "python",
   "nbconvert_exporter": "python",
   "pygments_lexer": "ipython2",
   "version": "2.7.6"
  }
 },
 "nbformat": 4,
 "nbformat_minor": 0
}
